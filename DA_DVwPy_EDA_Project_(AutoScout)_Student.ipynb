{
 "cells": [
  {
   "cell_type": "markdown",
   "metadata": {
    "id": "Bkw3_pB0s1L-"
   },
   "source": [
    "___\n",
    "\n",
    "<p style=\"text-align: center;\"><img src=\"https://docs.google.com/uc?id=1lY0Uj5R04yMY3-ZppPWxqCr5pvBLYPnV\" class=\"img-fluid\" \n",
    "alt=\"CLRSWY\"></p>\n",
    "\n",
    "## <p style=\"background-color:#FDFEFE; font-family:newtimeroman; color:#9d4f8c; font-size:100%; text-align:center; border-radius:10px 10px;\">WAY TO REINVENT YOURSELF</p>\n",
    "\n",
    "## <p style=\"background-color:#FDFEFE; font-family:newtimeroman; color:#060108; font-size:200%; text-align:center; border-radius:10px 10px;\">DA & DVwPY</p>\n",
    "\n",
    "## <p style=\"background-color:#FDFEFE; font-family:newtimeroman; color:#060108; font-size:200%; text-align:center; border-radius:10px 10px;\">The Exploratory Data Analysis (EDA) Project</p>\n",
    "\n",
    "<img src=https://i.ibb.co/wJW61Y2/Used-cars.jpg width=\"700\" height=\"200\">\n",
    "\n",
    "## <p style=\"background-color:#FDFEFE; font-family:newtimeroman; color:#060108; font-size:200%; text-align:center; border-radius:10px 10px;\">AutoScout Car Price Prediction EDA</p>\n",
    "\n"
   ]
  },
  {
   "cell_type": "markdown",
   "metadata": {
    "id": "Z_oWczxZs1MA"
   },
   "source": [
    "## Introduction\n",
    "Welcome to \"***AutoScout Exploratory Data Analysis (EDA) Project***\". This is the project of completing ***Data Analysis & Data Visualization*** Courses and a successful hand-over is mandatory for getting certification for both courses. **Auto Scout** data used in this project scraped from the Website of an online car trading company in 2022, and contains many features of 13 different car makes including 594 models. In this project, you will have the opportunity to apply many commonly used algorithms for Data Cleaning and Exploratory Data Analysis by using a variety of Python libraries, such as Numpy, Pandas, Matplotlib, Seaborn, Scipy, and then you will get a clean dataset for your analysis and pretictive modelling in Machine Learning Path. So you will have the chance to use all the skills you have already learned in the Data Analysis and Visualization courses.\n",
    "\n",
    "**``In this context, the project consists of 3 parts in general:``**\n",
    "* **The first part** is related to ``'Data Cleaning'``. It deals with Incorrect Headers, Incorrect Format, Anomalies, and Dropping useless columns.\n",
    "* **The second part** is related to ``'Filling Data'``, in other words 'Imputation'. It deals with Missing Values. Categorical to numeric transformation, Encoding, is done as well.\n",
    "* **The third part** is related to ``'Handling Outliers of Data'`` via Visualization libraries. So, some insights will be extracted.\n",
    "\n",
    "**``SPECIAL NOTE:``**  However, you are ``free to create your own style``. You do ``NOT`` have to stick to the steps above. Nevertheless, we, the DA & DV instructors, recommend you study each part separately to create a source notebook for your further studies. \n",
    "\n",
    "In order to build your Portfolio in terms of the GitHub account, you need to push your solution file up to your own repository.\n",
    "\n",
    "Please after solving the task, commit your notebook to GitHub and submit its link to LMS page where the project is settled down.\n",
    "\n",
    "**BE NOTED:** Please ``DO NOT FORGET`` to click the submit button.\n",
    "\n",
    "### Some Reminders on Exploratory data analysis (EDA)\n",
    "\n",
    "Exploratory data analysis (EDA) is an especially important activity in the routine of a data analyst or scientist. It enables an in depth understanding of the dataset, define or discard hypotheses and create predictive models on a solid basis. It uses data manipulation techniques and several statistical tools to describe and understand the relationship between variables and how these can impact business. By means of EDA, we can obtain meaningful insights that can impact analysis under the following questions (If a checklist is good enough for pilots to use every flight, it’s good enough for data scientists to use with every dataset).\n",
    "1. What question are you trying to solve (or prove wrong)?\n",
    "2. What kind of data do you have?\n",
    "3. What’s missing from the data?\n",
    "4. Where are the outliers?\n",
    "5. How can you add, change or remove features to get more out of your data?\n",
    "\n",
    "**``Exploratory data analysis (EDA)``** is often an **iterative brainstorming process** where you pose a question, review the data, and develop further questions to investigate before beginning model development work. The image below shows how the brainstorming phase is connected with that of understanding the variables and how this in turn is connected again with the brainstorming phase.<br>\n",
    "\n",
    "<img src=https://i.ibb.co/k0MC950/EDA-Process.png width=\"300\" height=\"100\">\n",
    "\n",
    "[Image Credit: Andrew D.](https://towardsdatascience.com/exploratory-data-analysis-in-python-a-step-by-step-process-d0dfa6bf94ee)\n",
    "\n"
   ]
  },
  {
   "cell_type": "code",
   "execution_count": 1,
   "metadata": {},
   "outputs": [],
   "source": [
    "# jupyter notebook --NotebookApp.iopub_data_rate_limit=1.0e10\n",
    "\n",
    "\n",
    "import numpy as np\n",
    "import pandas as pd\n",
    "import matplotlib.pyplot as plt\n",
    "import seaborn as sns\n",
    "import time\n",
    "import regex as re\n",
    "pd.options.display.max_colwidth = 20\n",
    "pd.options.display.max_columns = None\n",
    "import warnings\n",
    "warnings.filterwarnings(\"ignore\")\n",
    "warnings.warn(\"this will not show\")"
   ]
  },
  {
   "cell_type": "code",
   "execution_count": 2,
   "metadata": {},
   "outputs": [],
   "source": [
    "def def_show_nulls(data):\n",
    "    \n",
    "    '''\n",
    "    \n",
    "    This function plots missing values for each column by observation in the dataset.\n",
    "    \n",
    "    ''' \n",
    "    plt.figure(figsize=(10, 5))\n",
    "\n",
    "    sns.displot(data=data.isnull().melt(value_name=\"missing\"),\n",
    "                y=\"variable\",\n",
    "                hue=\"missing\",\n",
    "                multiple=\"fill\",\n",
    "                height=9.25)\n",
    "\n",
    "    plt.axvline(0.2, color=\"r\")\n",
    "    plt.show()\n",
    "    \n",
    "# ---------------------------------------------------------------------------------------------------------------#\n",
    "\n",
    "def def_col_name(x):\n",
    "    '''\n",
    "    \n",
    "    This function is made to change incompatible column names.\n",
    "    \n",
    "    '''\n",
    "    col_dict = {}\n",
    "    for col in x.columns:\n",
    "        new_col = col.strip().replace(' & ','_').replace(' ','_').replace('-','_').replace('CO₂','co2').replace('(','').replace(')','').lower()\n",
    "        col_dict[col]= new_col\n",
    "        x.rename(columns=col_dict, inplace=True)\n",
    "        \n",
    "# ---------------------------------------------------------------------------------------------------------------#\n",
    "\n",
    "def def_col_val_analysis(x):\n",
    "    '''\n",
    "    \n",
    "    This function was created to help you figure out what type of data is in the column as \n",
    "    it performs operations on each column.\n",
    "    \n",
    "    '''\n",
    "    for col in x.columns:\n",
    "        t_list = []\n",
    "        for val in x[col]:\n",
    "            t_list.append(type(val))\n",
    "        print(pd.Series(t_list).value_counts())\n",
    "        print(col+'\\n')\n",
    "        \n",
    "# ---------------------------------------------------------------------------------------------------------------#\n",
    "\n",
    "def def_clean_column(x):\n",
    "    for i in range(0,len(x)):\n",
    "        if x[i] != 'Unknown':\n",
    "            x[i] = x[i][0].replace(',','').strip()\n",
    "            \n",
    "# ---------------------------------------------------------------------------------------------------------------#\n",
    "\n",
    "def def_clean_column1(x):\n",
    "    for i in range(len(x)):\n",
    "        if x[i] != 'Unknown':\n",
    "            x[i] = x[i][0].strip().replace(',','')\n",
    "\n",
    "# ---------------------------------------------------------------------------------------------------------------#\n",
    "\n",
    "def assign_consumption_value(df, i, idx, consumption_type):\n",
    "    num = df.fuel_consumption[i][idx][0].split()[0]\n",
    "    if consumption_type == '(city)':\n",
    "        df.consumption_city[i] = num\n",
    "    elif consumption_type == '(country)':\n",
    "        df.consumption_country[i] = num\n",
    "    elif consumption_type == '(comb.)':\n",
    "        df.consumption_comb[i] = num\n",
    "\n",
    "# ---------------------------------------------------------------------------------------------------------------#\n",
    "        \n",
    "def def_fillna():\n",
    "    '''\n",
    "    \n",
    "    This function is created to fill in missing data according to similar properties of other columns.\n",
    "    \n",
    "    '''\n",
    "    num = int(input('How Many Column: '))\n",
    "    targetcol = input('Target Column: ')\n",
    "    agg_func = input('Aggregate Function: ')\n",
    "    if agg_func == 'mean':\n",
    "        if num == 1:\n",
    "            first_col = input('1. Column: ')\n",
    "            for i in df[df[targetcol].isnull()==True].index:\n",
    "                df[targetcol][i] = df[df[first_col]==df[first_col][i]][targetcol].mean()\n",
    "        elif num == 2:\n",
    "            first_col = input('1. Column: ')\n",
    "            second_col = input('2. Column: ')\n",
    "            for i in df[df[targetcol].isnull()==True].index:\n",
    "                df[targetcol][i] = df[(df[first_col]==df[first_col][i]) & (df[second_col]==df[second_col][i])][targetcol].mean()\n",
    "        elif num == 3:\n",
    "            first_col = input('1. Column: ')\n",
    "            second_col = input('2. Column: ')\n",
    "            third_col = input('3. Column: ')\n",
    "            for i in df[df[targetcol].isnull()==True].index:\n",
    "                df[targetcol][i] = df[(df[first_col]==df[first_col][i]) & (df[second_col]==df[second_col][i]) & (df[third_col]==df[third_col][i])][targetcol].mean()\n",
    "    elif agg_func == 'mode':\n",
    "        if num == 1:\n",
    "            first_col = input('1. Column: ')\n",
    "            for i in df[df[targetcol].isnull()==True].index:\n",
    "                df[targetcol][i] = df[df[first_col]==df[first_col][i]][targetcol].mode()\n",
    "        elif num == 2:\n",
    "            first_col = input('1. Column: ')\n",
    "            second_col = input('2. Column: ')\n",
    "            for i in df[df[targetcol].isnull()==True].index:\n",
    "                df[targetcol][i] = df[(df[first_col]==df[first_col][i]) & (df[second_col]==df[second_col][i])][targetcol].mode()\n",
    "        elif num == 3:\n",
    "            first_col = input('1. Column: ')\n",
    "            second_col = input('2. Column: ')\n",
    "            third_col = input('3. Column: ')\n",
    "            for i in df[df[targetcol].isnull()==True].index:\n",
    "                df[targetcol][i] = df[(df[first_col]==df[first_col][i]) & (df[second_col]==df[second_col][i]) & (df[third_col]==df[third_col][i])][targetcol].mode()"
   ]
  },
  {
   "cell_type": "code",
   "execution_count": 3,
   "metadata": {},
   "outputs": [],
   "source": [
    "df0 = pd.read_json('as24_cars.json')\n",
    "df = df0.copy()\n",
    "df.fillna('Unknown', inplace=True)\n",
    "def_col_name(df)"
   ]
  },
  {
   "cell_type": "markdown",
   "metadata": {
    "id": "vvgJ5KWTs1MB"
   },
   "source": [
    "# PART- 1 `( Data Cleaning )`"
   ]
  },
  {
   "cell_type": "code",
   "execution_count": 4,
   "metadata": {
    "scrolled": true
   },
   "outputs": [
    {
     "name": "stdout",
     "output_type": "stream",
     "text": [
      "Kodun çalışma süresi: 164.50 saniye\n"
     ]
    }
   ],
   "source": [
    "start = time.time()\n",
    "\n",
    "# 1. Column READY\n",
    "for i in range(len(df.make_model)):\n",
    "    df['make_model'][i] = df.make_model[i].split()[0]\n",
    "\n",
    "# 2. Column UNREADY\n",
    "# df.short_description.sample(10)\n",
    "\n",
    "# 3. Column READY\n",
    "for i in range(len(df.make)):\n",
    "    df['make'][i] = df.make[i].strip()\n",
    "\n",
    "# 4. Column READY\n",
    "def_clean_column(df.model)  \n",
    "\n",
    "# 5. Column READY\n",
    "for i in range(len(df.location)):\n",
    "    if df.location[i] != 'Unknown':\n",
    "        df.location[i] = df.location[i].split()[-1]\n",
    "        \n",
    "# 6. Column READY\n",
    "for i in range(len(df.price)):\n",
    "    df.price[i] = df.price[i].replace('€','').replace(',','').replace('.-','').strip()\n",
    "df.price.replace('Unknown',np.nan, inplace=True)\n",
    "df.price = df.price.astype('float')\n",
    "\n",
    "# 7. Column READY\n",
    "def_clean_column(df.body_type)\n",
    "\n",
    "# 8. Column READY\n",
    "\n",
    "def_clean_column(df.type)\n",
    "\n",
    "# 9. Column READY\n",
    "def_clean_column(df.doors)\n",
    "df.doors.replace('Unknown',np.nan, inplace=True)\n",
    "df.doors = df.doors.astype('float')\n",
    "\n",
    "# 10. Column READY\n",
    "def_clean_column(df.country_version)\n",
    "\n",
    "# 11. Column READY\n",
    "def_clean_column(df.offer_number)\n",
    "\n",
    "# 12. Column READY\n",
    "def_clean_column(df.warranty)\n",
    "\n",
    "# 13. Column READY\n",
    "for i in range(len(df.mileage)):\n",
    "    df.mileage[i] = df.mileage[i].strip().replace(',','').replace('km','')\n",
    "df.mileage.replace('Unknown',np.nan, inplace=True)\n",
    "df.mileage = df.mileage.astype('float')\n",
    "\n",
    "# 14. Column READY\n",
    "df.first_registration.replace('Unknown', np.nan, inplace=True)\n",
    "df.first_registration = pd.to_datetime(df.first_registration, format='%m/%Y')\n",
    "\n",
    "# 15. Column READY\n",
    "def_clean_column1(df.gearbox)\n",
    "\n",
    "# 16. Column UNREADY\n",
    "# df.fuel_type.value_counts()\n",
    "\n",
    "# 17. Column READY\n",
    "# df.colour.value_counts()\n",
    "\n",
    "# 18. Column READY\n",
    "# df.paint.value_counts()\n",
    "\n",
    "# 19. Column UNREADY\n",
    "for i in range(len(df.desc)):\n",
    "    if type(df.desc[i]) == list:\n",
    "        df.desc[i] = str(df.desc[i])\n",
    "        \n",
    "# 20. Column READY\n",
    "df.seller.value_counts()\n",
    "\n",
    "# 21. Column READY\n",
    "def_clean_column(df.seats)\n",
    "df.seats.replace('Unknown',np.nan, inplace=True)\n",
    "df.seats = df.seats.astype('float')\n",
    "\n",
    "# 22. Column READY\n",
    "df['power_kw'] = pd.Series([None]*len(df))\n",
    "df['power_hp'] = pd.Series([None]*len(df))\n",
    "for i in range(len(df.power)):\n",
    "    if df.power[i] != 'Unknown':\n",
    "        df['power_kw'][i] = re.findall(r'\\d+', df.power[i][0].strip())[0]\n",
    "        df['power_hp'][i] = re.findall(r'\\d+', df.power[i][0].strip())[1]\n",
    "df.drop('power', axis=1, inplace=True)\n",
    "\n",
    "# 23. Column READY\n",
    "for i in range(len(df.engine_size)):\n",
    "    if df.engine_size[i] != 'Unknown':\n",
    "        df.engine_size[i] = df.engine_size[i][0].strip().replace(',','').rstrip('cc').strip()\n",
    "df.engine_size.replace('Unknown',np.nan, inplace=True)\n",
    "df.engine_size = df.engine_size.astype('float')\n",
    "\n",
    "# 24. Column READY\n",
    "def_clean_column1(df.gears)\n",
    "df.gears.replace('Unknown',np.nan, inplace=True)\n",
    "df.gears = df.gears.astype('float')\n",
    "\n",
    "# 25. Column READY\n",
    "for i in range(len(df.co2_emissions)):\n",
    "    if df.co2_emissions[i] != 'Unknown':\n",
    "        df.co2_emissions[i] = df.co2_emissions[i].replace('g/km (comb.)','').replace(',','').strip()\n",
    "df.co2_emissions.replace('Unknown',np.nan, inplace=True)\n",
    "df.co2_emissions = df.co2_emissions.astype('float')\n",
    "\n",
    "# 26. Column UNREADY\n",
    "# df.manufacturer_colour.value_counts()\n",
    "\n",
    "# 27. Column READY\n",
    "def_clean_column(df.drivetrain)\n",
    "\n",
    "# 28. Column READY\n",
    "def_clean_column1(df.cylinders)\n",
    "df.cylinders.replace('Unknown',np.nan, inplace=True)\n",
    "df.cylinders = df.cylinders.astype('float')\n",
    "\n",
    "# 29. Column READY\n",
    "df['consumption_comb'] = pd.Series([None]*len(df))\n",
    "df['consumption_city'] = pd.Series([None]*len(df))\n",
    "df['consumption_country'] = pd.Series([None]*len(df))\n",
    "\n",
    "for i in range(len(df.fuel_consumption)):\n",
    "    if df.fuel_consumption[i] != 'Unknown':\n",
    "        if len(df.fuel_consumption[i]) == 1:\n",
    "            assign_consumption_value(df, i, 0, df.fuel_consumption[i][0][0].split()[3])\n",
    "        elif len(df.fuel_consumption[i]) == 2:\n",
    "            assign_consumption_value(df, i, 0, df.fuel_consumption[i][0][0].split()[3])\n",
    "            assign_consumption_value(df, i, 1, df.fuel_consumption[i][1][0].split()[3])\n",
    "        elif len(df.fuel_consumption[i]) == 3:\n",
    "            assign_consumption_value(df, i, 0, df.fuel_consumption[i][0][0].split()[3])\n",
    "            assign_consumption_value(df, i, 1, df.fuel_consumption[i][1][0].split()[3])\n",
    "            assign_consumption_value(df, i, 2, df.fuel_consumption[i][2][0].split()[3])\n",
    "df.consumption_city = df.consumption_city.astype('float')\n",
    "df.consumption_comb = df.consumption_comb.astype('float')\n",
    "df.consumption_country = df.consumption_country.astype('float')\n",
    "df.drop('fuel_consumption', axis=1, inplace=True)\n",
    "\n",
    "# 30. Column READY\n",
    "for i in range(len(df.comfort_convenience)):\n",
    "    if df.comfort_convenience[i] != 'Unknown':\n",
    "        df.comfort_convenience[i] = df.comfort_convenience[i][0]\n",
    "        \n",
    "# 31. Column READY\n",
    "for i in range(len(df.entertainment_media)):\n",
    "    if df.entertainment_media[i] != 'Unknown':\n",
    "        df.entertainment_media[i] = df.entertainment_media[i][0]\n",
    "\n",
    "# 32. Column READY\n",
    "for i in range(len(df.safety_security)):\n",
    "    if df.safety_security[i] != 'Unknown':\n",
    "        df.safety_security[i] = df.safety_security[i][0]\n",
    "        \n",
    "# 33. Column READY\n",
    "for i in range(len(df.extras)):\n",
    "    if df.extras[i] != 'Unknown':\n",
    "        df.extras[i] = df.extras[i][0]\n",
    "        \n",
    "# 34. Column READY\n",
    "for i in range(len(df.empty_weight)):\n",
    "    if df.empty_weight[i] != 'Unknown':\n",
    "        df.empty_weight[i] = df.empty_weight[i][0].replace(',','').replace('kg','').strip()\n",
    "df.empty_weight.replace('Unknown',np.nan, inplace=True)\n",
    "df.empty_weight = df.empty_weight.astype('float')\n",
    "\n",
    "# 35. Column READY\n",
    "def_clean_column(df.model_code)\n",
    "\n",
    "# 36. Column READY\n",
    "# print(df.general_inspection.sample(20))\n",
    "\n",
    "# 37. Column READY\n",
    "# print(df.last_service.sample(20))\n",
    "\n",
    "# 38. Column READY\n",
    "# print(df.full_service_history.sample(20))\n",
    "\n",
    "# 39. Column READY\n",
    "# df.non_smoker_vehicle.value_counts()\n",
    "\n",
    "# 40. Column READY\n",
    "# df.emission_class.value_counts()\n",
    "\n",
    "# 41. Column READY\n",
    "# df.emissions_sticker.value_counts()\n",
    "\n",
    "# 42. Column READY\n",
    "# df.upholstery_colour.value_counts()\n",
    "\n",
    "# 43. Column READY\n",
    "# df.upholstery.value_counts()\n",
    "\n",
    "# 44. Column READY\n",
    "# df.production_date.value_counts()\n",
    "\n",
    "# 45. Column READY\n",
    "df['preown_km'] = pd.Series([None]*len(df))\n",
    "df['preown_date'] = pd.Series([None]*len(df))\n",
    "df['preown_num'] = pd.Series([None]*len(df))\n",
    "\n",
    "for i in range(len(df.previous_owner)):\n",
    "    if df.previous_owner[i] != 'Unknown':\n",
    "        df.preown_km[i] = df.previous_owner[i][0][0].replace(',','').replace('km','').strip()\n",
    "        df.preown_date[i] = df.previous_owner[i][0][1]\n",
    "        df.preown_num[i] = df.previous_owner[i][1]\n",
    "df.drop('previous_owner', axis=1, inplace=True)\n",
    "\n",
    "# 46. Column READY\n",
    "# df.other_fuel_types.value_counts()\n",
    "\n",
    "# 47. Column READY\n",
    "# df.power_consumption.value_counts()\n",
    "\n",
    "# 48. Column UNREADY\n",
    "# df.energy_efficiency_class.value_counts()\n",
    "\n",
    "# 49. Column READY\n",
    "# df.co2_efficiency.value_counts()\n",
    "\n",
    "# 50. Column READY\n",
    "# df.fuel_consumption_wltp.value_counts()\n",
    "\n",
    "# 51. Column READY\n",
    "# df.co2_emissions_wltp.value_counts()\n",
    "\n",
    "# 52. Column READY\n",
    "\n",
    "for i in range(len(df['available_from'])):\n",
    "    if df['available_from'][i] != 'Unknown':\n",
    "        df['available_from'][i] = df['available_from'][i][0].replace(',','').strip()\n",
    "df.available_from.replace('Unknown', np.nan, inplace=True)\n",
    "df.available_from = pd.to_datetime(df.available_from, format='%d/%m/%Y')\n",
    "\n",
    "# 53. Column READY\n",
    "# df.taxi_or_rental_car.value_counts()\n",
    "\n",
    "# 54. Column READY\n",
    "for i in range(len(df.availability)):\n",
    "    if df.availability[i] != 'Unknown':\n",
    "        df.availability[i] = df.availability[i][0].split()[2]\n",
    "df.availability.replace('Unknown',np.nan, inplace=True)\n",
    "df.availability = df.availability.astype('float')\n",
    "\n",
    "# 55. Column READY\n",
    "# df.last_timing_belt_change.value_counts()\n",
    "\n",
    "# 56. Column READY\n",
    "# df.electric_range_wltp.value_counts()\n",
    "\n",
    "# 57. Column READY\n",
    "# df.power_consumption_wltp.value_counts()\n",
    "\n",
    "# 58. Column READY\n",
    "# df.battery_ownership.value_counts()\n",
    "\n",
    "# ADDITIONAL\n",
    "df['fuel_type'] = df['fuel_type'].transform(lambda x: 'Benzine' if re.search('Gasoline', x) else 'Benzine' if re.search('Super', x) else 'Benzine' if re.search('Benzine', x) else 'Benzine' if re.search('Others', x) else 'LPG' if re.search('CNG', x) else 'LPG' if re.search('LPG', x) else 'LPG' if re.search('gas', x) else 'Electric' if re.search('Electric', x) else 'LPG' if re.search('Ethanol', x) else 'LPG' if re.search('Biogas', x) else 'Diesel' if re.search('Diesel', x) else 'Diesel')\n",
    "for i in range(len(df)):\n",
    "    if df.iloc[i]['other_fuel_types'] == 'Electricity':\n",
    "        df['fuel_type'].iloc[i] = 'Electric'\n",
    "        \n",
    "\n",
    "df.replace('Unknown', np.nan, inplace=True)\n",
    "df.drop_duplicates(keep='first', inplace=True)\n",
    "df.reset_index(drop=True, inplace=True)\n",
    "df.drop(1775, axis=0, inplace=True)\n",
    "# df[df.model.isnull() == True] Rowu drop ederken bu kod bloğunda düzenleme yapıp yapmadığına dikkat et\n",
    "\n",
    "end = time.time()\n",
    "\n",
    "print(\"Kodun çalışma süresi: {:.2f} saniye\".format(end - start))\n",
    "# Kodun çalışma süresi: 157.99 saniye\n",
    "# Kodun çalışma süresi: 204.02 saniye\n",
    "# Kodun çalışma süresi: 164.94 saniye\n",
    "# Kodun çalışma süresi: 171.63 saniye\n",
    "# Kodun çalışma süresi: 168.51 saniye"
   ]
  },
  {
   "cell_type": "markdown",
   "metadata": {
    "id": "uGeKSdYds1MD"
   },
   "source": [
    "# PART- 2 `( Handling With Missing Vales )`"
   ]
  },
  {
   "cell_type": "code",
   "execution_count": 5,
   "metadata": {},
   "outputs": [],
   "source": [
    "# df1=df.copy()\n",
    "# df2=df.copy()"
   ]
  },
  {
   "cell_type": "code",
   "execution_count": 6,
   "metadata": {},
   "outputs": [],
   "source": [
    "# 8) Doors READY\n",
    "\n",
    "for i in df[df['doors'].isnull() == True].index:\n",
    "    if df['body_type'][i] == 'Convertible':\n",
    "        df['doors'][i] = df[df['body_type'] == 'Convertible'].doors.mode()[0]\n",
    "    elif df['body_type'][i] == 'Compact':\n",
    "        df['doors'][i] = df[df['body_type'] == 'Compact'].doors.mode()[0]\n",
    "    elif df['body_type'][i] == 'Coupe':\n",
    "        df['doors'][i] = df[df['body_type'] == 'Coupe'].doors.mode()[0]\n",
    "    elif df['body_type'][i] == 'Off-Road/Pick-up':\n",
    "        df['doors'][i] = df[df['body_type'] == 'Off-Road/Pick-up'].doors.mode()[0]\n",
    "    elif df['body_type'][i] == 'Station wagon':\n",
    "        df['doors'][i] = df[df['body_type'] == 'Station wagon'].doors.mode()[0]\n",
    "    elif df['body_type'][i] == 'Sedan':\n",
    "        df['doors'][i] = df[df['body_type'] == 'Sedan'].doors.mode()[0]"
   ]
  },
  {
   "cell_type": "code",
   "execution_count": 7,
   "metadata": {},
   "outputs": [
    {
     "name": "stdout",
     "output_type": "stream",
     "text": [
      "How Many Column: 2\n",
      "Target Column: mileage\n",
      "Aggregate Function: mean\n",
      "1. Column: model\n",
      "2. Column: first_registration\n"
     ]
    }
   ],
   "source": [
    "# 12) Mileage READY\n",
    "\n",
    "# MARK I\n",
    "\n",
    "# for i in df[df.mileage.isnull()==True].index:\n",
    "#     df['mileage'][i] = df[(df.model==df.model[i])&(df.first_registration[i])].mileage.mean()\n",
    "\n",
    "# MARK II\n",
    "\n",
    "def_fillna()"
   ]
  },
  {
   "cell_type": "code",
   "execution_count": 8,
   "metadata": {},
   "outputs": [],
   "source": [
    "# 13) First Registration READY\n",
    "\n",
    "for i in df[df.first_registration.isnull()].index:\n",
    "    df.first_registration[i] = df[df.model==df.model[i]]['first_registration'].mean()\n",
    "    \n",
    "df.first_registration = df.first_registration.transform(lambda x: x.year) "
   ]
  },
  {
   "cell_type": "code",
   "execution_count": 10,
   "metadata": {},
   "outputs": [
    {
     "ename": "TypeError",
     "evalue": "unsupported operand type(s) for &: 'bool' and 'float'",
     "output_type": "error",
     "traceback": [
      "\u001b[1;31m---------------------------------------------------------------------------\u001b[0m",
      "\u001b[1;31mTypeError\u001b[0m                                 Traceback (most recent call last)",
      "\u001b[1;32m~\\Anaconda3\\lib\\site-packages\\pandas\\core\\ops\\array_ops.py\u001b[0m in \u001b[0;36mna_logical_op\u001b[1;34m(x, y, op)\u001b[0m\n\u001b[0;32m    300\u001b[0m         \u001b[1;31m#  (xint or xbool) and (yint or bool)\u001b[0m\u001b[1;33m\u001b[0m\u001b[1;33m\u001b[0m\u001b[0m\n\u001b[1;32m--> 301\u001b[1;33m         \u001b[0mresult\u001b[0m \u001b[1;33m=\u001b[0m \u001b[0mop\u001b[0m\u001b[1;33m(\u001b[0m\u001b[0mx\u001b[0m\u001b[1;33m,\u001b[0m \u001b[0my\u001b[0m\u001b[1;33m)\u001b[0m\u001b[1;33m\u001b[0m\u001b[1;33m\u001b[0m\u001b[0m\n\u001b[0m\u001b[0;32m    302\u001b[0m     \u001b[1;32mexcept\u001b[0m \u001b[0mTypeError\u001b[0m\u001b[1;33m:\u001b[0m\u001b[1;33m\u001b[0m\u001b[1;33m\u001b[0m\u001b[0m\n",
      "\u001b[1;32m~\\Anaconda3\\lib\\site-packages\\pandas\\core\\roperator.py\u001b[0m in \u001b[0;36mrand_\u001b[1;34m(left, right)\u001b[0m\n\u001b[0;32m     51\u001b[0m \u001b[1;32mdef\u001b[0m \u001b[0mrand_\u001b[0m\u001b[1;33m(\u001b[0m\u001b[0mleft\u001b[0m\u001b[1;33m,\u001b[0m \u001b[0mright\u001b[0m\u001b[1;33m)\u001b[0m\u001b[1;33m:\u001b[0m\u001b[1;33m\u001b[0m\u001b[1;33m\u001b[0m\u001b[0m\n\u001b[1;32m---> 52\u001b[1;33m     \u001b[1;32mreturn\u001b[0m \u001b[0moperator\u001b[0m\u001b[1;33m.\u001b[0m\u001b[0mand_\u001b[0m\u001b[1;33m(\u001b[0m\u001b[0mright\u001b[0m\u001b[1;33m,\u001b[0m \u001b[0mleft\u001b[0m\u001b[1;33m)\u001b[0m\u001b[1;33m\u001b[0m\u001b[1;33m\u001b[0m\u001b[0m\n\u001b[0m\u001b[0;32m     53\u001b[0m \u001b[1;33m\u001b[0m\u001b[0m\n",
      "\u001b[1;31mTypeError\u001b[0m: unsupported operand type(s) for &: 'bool' and 'float'",
      "\nDuring handling of the above exception, another exception occurred:\n",
      "\u001b[1;31mTypeError\u001b[0m                                 Traceback (most recent call last)",
      "\u001b[1;32m~\\AppData\\Local\\Temp\\ipykernel_2224\\580275853.py\u001b[0m in \u001b[0;36m<module>\u001b[1;34m\u001b[0m\n\u001b[0;32m      2\u001b[0m \u001b[1;33m\u001b[0m\u001b[0m\n\u001b[0;32m      3\u001b[0m \u001b[1;32mfor\u001b[0m \u001b[0mi\u001b[0m \u001b[1;32min\u001b[0m \u001b[0mdf\u001b[0m\u001b[1;33m[\u001b[0m\u001b[0mdf\u001b[0m\u001b[1;33m.\u001b[0m\u001b[0mgearbox\u001b[0m\u001b[1;33m.\u001b[0m\u001b[0misnull\u001b[0m\u001b[1;33m(\u001b[0m\u001b[1;33m)\u001b[0m\u001b[1;33m==\u001b[0m\u001b[1;32mTrue\u001b[0m\u001b[1;33m]\u001b[0m\u001b[1;33m.\u001b[0m\u001b[0mindex\u001b[0m\u001b[1;33m:\u001b[0m\u001b[1;33m\u001b[0m\u001b[1;33m\u001b[0m\u001b[0m\n\u001b[1;32m----> 4\u001b[1;33m     \u001b[0mdf\u001b[0m\u001b[1;33m[\u001b[0m\u001b[1;34m'gearbox'\u001b[0m\u001b[1;33m]\u001b[0m\u001b[1;33m[\u001b[0m\u001b[0mi\u001b[0m\u001b[1;33m]\u001b[0m \u001b[1;33m=\u001b[0m \u001b[0mdf\u001b[0m\u001b[1;33m[\u001b[0m\u001b[1;33m(\u001b[0m\u001b[0mdf\u001b[0m\u001b[1;33m.\u001b[0m\u001b[0mmodel\u001b[0m\u001b[1;33m==\u001b[0m\u001b[0mdf\u001b[0m\u001b[1;33m.\u001b[0m\u001b[0mmodel\u001b[0m\u001b[1;33m[\u001b[0m\u001b[0mi\u001b[0m\u001b[1;33m]\u001b[0m\u001b[1;33m)\u001b[0m \u001b[1;33m&\u001b[0m \u001b[1;33m(\u001b[0m\u001b[0mdf\u001b[0m\u001b[1;33m[\u001b[0m\u001b[0mdf\u001b[0m\u001b[1;33m.\u001b[0m\u001b[0mfirst_registration\u001b[0m\u001b[1;33m==\u001b[0m\u001b[0mdf\u001b[0m\u001b[1;33m.\u001b[0m\u001b[0mfirst_registration\u001b[0m\u001b[1;33m[\u001b[0m\u001b[0mi\u001b[0m\u001b[1;33m]\u001b[0m\u001b[1;33m]\u001b[0m\u001b[1;33m)\u001b[0m\u001b[1;33m]\u001b[0m\u001b[1;33m.\u001b[0m\u001b[0mgearbox\u001b[0m\u001b[1;33m.\u001b[0m\u001b[0mmode\u001b[0m\u001b[1;33m(\u001b[0m\u001b[1;33m)\u001b[0m\u001b[1;33m\u001b[0m\u001b[1;33m\u001b[0m\u001b[0m\n\u001b[0m",
      "\u001b[1;32m~\\Anaconda3\\lib\\site-packages\\pandas\\core\\ops\\common.py\u001b[0m in \u001b[0;36mnew_method\u001b[1;34m(self, other)\u001b[0m\n\u001b[0;32m     68\u001b[0m         \u001b[0mother\u001b[0m \u001b[1;33m=\u001b[0m \u001b[0mitem_from_zerodim\u001b[0m\u001b[1;33m(\u001b[0m\u001b[0mother\u001b[0m\u001b[1;33m)\u001b[0m\u001b[1;33m\u001b[0m\u001b[1;33m\u001b[0m\u001b[0m\n\u001b[0;32m     69\u001b[0m \u001b[1;33m\u001b[0m\u001b[0m\n\u001b[1;32m---> 70\u001b[1;33m         \u001b[1;32mreturn\u001b[0m \u001b[0mmethod\u001b[0m\u001b[1;33m(\u001b[0m\u001b[0mself\u001b[0m\u001b[1;33m,\u001b[0m \u001b[0mother\u001b[0m\u001b[1;33m)\u001b[0m\u001b[1;33m\u001b[0m\u001b[1;33m\u001b[0m\u001b[0m\n\u001b[0m\u001b[0;32m     71\u001b[0m \u001b[1;33m\u001b[0m\u001b[0m\n\u001b[0;32m     72\u001b[0m     \u001b[1;32mreturn\u001b[0m \u001b[0mnew_method\u001b[0m\u001b[1;33m\u001b[0m\u001b[1;33m\u001b[0m\u001b[0m\n",
      "\u001b[1;32m~\\Anaconda3\\lib\\site-packages\\pandas\\core\\arraylike.py\u001b[0m in \u001b[0;36m__rand__\u001b[1;34m(self, other)\u001b[0m\n\u001b[0;32m     72\u001b[0m     \u001b[1;33m@\u001b[0m\u001b[0munpack_zerodim_and_defer\u001b[0m\u001b[1;33m(\u001b[0m\u001b[1;34m\"__rand__\"\u001b[0m\u001b[1;33m)\u001b[0m\u001b[1;33m\u001b[0m\u001b[1;33m\u001b[0m\u001b[0m\n\u001b[0;32m     73\u001b[0m     \u001b[1;32mdef\u001b[0m \u001b[0m__rand__\u001b[0m\u001b[1;33m(\u001b[0m\u001b[0mself\u001b[0m\u001b[1;33m,\u001b[0m \u001b[0mother\u001b[0m\u001b[1;33m)\u001b[0m\u001b[1;33m:\u001b[0m\u001b[1;33m\u001b[0m\u001b[1;33m\u001b[0m\u001b[0m\n\u001b[1;32m---> 74\u001b[1;33m         \u001b[1;32mreturn\u001b[0m \u001b[0mself\u001b[0m\u001b[1;33m.\u001b[0m\u001b[0m_logical_method\u001b[0m\u001b[1;33m(\u001b[0m\u001b[0mother\u001b[0m\u001b[1;33m,\u001b[0m \u001b[0mroperator\u001b[0m\u001b[1;33m.\u001b[0m\u001b[0mrand_\u001b[0m\u001b[1;33m)\u001b[0m\u001b[1;33m\u001b[0m\u001b[1;33m\u001b[0m\u001b[0m\n\u001b[0m\u001b[0;32m     75\u001b[0m \u001b[1;33m\u001b[0m\u001b[0m\n\u001b[0;32m     76\u001b[0m     \u001b[1;33m@\u001b[0m\u001b[0munpack_zerodim_and_defer\u001b[0m\u001b[1;33m(\u001b[0m\u001b[1;34m\"__or__\"\u001b[0m\u001b[1;33m)\u001b[0m\u001b[1;33m\u001b[0m\u001b[1;33m\u001b[0m\u001b[0m\n",
      "\u001b[1;32m~\\Anaconda3\\lib\\site-packages\\pandas\\core\\frame.py\u001b[0m in \u001b[0;36m_arith_method\u001b[1;34m(self, other, op)\u001b[0m\n\u001b[0;32m   6953\u001b[0m         \u001b[0mself\u001b[0m\u001b[1;33m,\u001b[0m \u001b[0mother\u001b[0m \u001b[1;33m=\u001b[0m \u001b[0mops\u001b[0m\u001b[1;33m.\u001b[0m\u001b[0malign_method_FRAME\u001b[0m\u001b[1;33m(\u001b[0m\u001b[0mself\u001b[0m\u001b[1;33m,\u001b[0m \u001b[0mother\u001b[0m\u001b[1;33m,\u001b[0m \u001b[0maxis\u001b[0m\u001b[1;33m,\u001b[0m \u001b[0mflex\u001b[0m\u001b[1;33m=\u001b[0m\u001b[1;32mTrue\u001b[0m\u001b[1;33m,\u001b[0m \u001b[0mlevel\u001b[0m\u001b[1;33m=\u001b[0m\u001b[1;32mNone\u001b[0m\u001b[1;33m)\u001b[0m\u001b[1;33m\u001b[0m\u001b[1;33m\u001b[0m\u001b[0m\n\u001b[0;32m   6954\u001b[0m \u001b[1;33m\u001b[0m\u001b[0m\n\u001b[1;32m-> 6955\u001b[1;33m         \u001b[0mnew_data\u001b[0m \u001b[1;33m=\u001b[0m \u001b[0mself\u001b[0m\u001b[1;33m.\u001b[0m\u001b[0m_dispatch_frame_op\u001b[0m\u001b[1;33m(\u001b[0m\u001b[0mother\u001b[0m\u001b[1;33m,\u001b[0m \u001b[0mop\u001b[0m\u001b[1;33m,\u001b[0m \u001b[0maxis\u001b[0m\u001b[1;33m=\u001b[0m\u001b[0maxis\u001b[0m\u001b[1;33m)\u001b[0m\u001b[1;33m\u001b[0m\u001b[1;33m\u001b[0m\u001b[0m\n\u001b[0m\u001b[0;32m   6956\u001b[0m         \u001b[1;32mreturn\u001b[0m \u001b[0mself\u001b[0m\u001b[1;33m.\u001b[0m\u001b[0m_construct_result\u001b[0m\u001b[1;33m(\u001b[0m\u001b[0mnew_data\u001b[0m\u001b[1;33m)\u001b[0m\u001b[1;33m\u001b[0m\u001b[1;33m\u001b[0m\u001b[0m\n\u001b[0;32m   6957\u001b[0m \u001b[1;33m\u001b[0m\u001b[0m\n",
      "\u001b[1;32m~\\Anaconda3\\lib\\site-packages\\pandas\\core\\frame.py\u001b[0m in \u001b[0;36m_dispatch_frame_op\u001b[1;34m(self, right, func, axis)\u001b[0m\n\u001b[0;32m   6992\u001b[0m             \u001b[1;31m# TODO operate_blockwise expects a manager of the same type\u001b[0m\u001b[1;33m\u001b[0m\u001b[1;33m\u001b[0m\u001b[0m\n\u001b[0;32m   6993\u001b[0m             \u001b[1;32mwith\u001b[0m \u001b[0mnp\u001b[0m\u001b[1;33m.\u001b[0m\u001b[0merrstate\u001b[0m\u001b[1;33m(\u001b[0m\u001b[0mall\u001b[0m\u001b[1;33m=\u001b[0m\u001b[1;34m\"ignore\"\u001b[0m\u001b[1;33m)\u001b[0m\u001b[1;33m:\u001b[0m\u001b[1;33m\u001b[0m\u001b[1;33m\u001b[0m\u001b[0m\n\u001b[1;32m-> 6994\u001b[1;33m                 bm = self._mgr.operate_blockwise(\n\u001b[0m\u001b[0;32m   6995\u001b[0m                     \u001b[1;31m# error: Argument 1 to \"operate_blockwise\" of \"ArrayManager\" has\u001b[0m\u001b[1;33m\u001b[0m\u001b[1;33m\u001b[0m\u001b[0m\n\u001b[0;32m   6996\u001b[0m                     \u001b[1;31m# incompatible type \"Union[ArrayManager, BlockManager]\"; expected\u001b[0m\u001b[1;33m\u001b[0m\u001b[1;33m\u001b[0m\u001b[0m\n",
      "\u001b[1;32m~\\Anaconda3\\lib\\site-packages\\pandas\\core\\internals\\managers.py\u001b[0m in \u001b[0;36moperate_blockwise\u001b[1;34m(self, other, array_op)\u001b[0m\n\u001b[0;32m   1417\u001b[0m         \u001b[0mApply\u001b[0m \u001b[0marray_op\u001b[0m \u001b[0mblockwise\u001b[0m \u001b[1;32mwith\u001b[0m \u001b[0manother\u001b[0m \u001b[1;33m(\u001b[0m\u001b[0maligned\u001b[0m\u001b[1;33m)\u001b[0m \u001b[0mBlockManager\u001b[0m\u001b[1;33m.\u001b[0m\u001b[1;33m\u001b[0m\u001b[1;33m\u001b[0m\u001b[0m\n\u001b[0;32m   1418\u001b[0m         \"\"\"\n\u001b[1;32m-> 1419\u001b[1;33m         \u001b[1;32mreturn\u001b[0m \u001b[0moperate_blockwise\u001b[0m\u001b[1;33m(\u001b[0m\u001b[0mself\u001b[0m\u001b[1;33m,\u001b[0m \u001b[0mother\u001b[0m\u001b[1;33m,\u001b[0m \u001b[0marray_op\u001b[0m\u001b[1;33m)\u001b[0m\u001b[1;33m\u001b[0m\u001b[1;33m\u001b[0m\u001b[0m\n\u001b[0m\u001b[0;32m   1420\u001b[0m \u001b[1;33m\u001b[0m\u001b[0m\n\u001b[0;32m   1421\u001b[0m     \u001b[1;32mdef\u001b[0m \u001b[0m_equal_values\u001b[0m\u001b[1;33m(\u001b[0m\u001b[0mself\u001b[0m\u001b[1;33m:\u001b[0m \u001b[0mBlockManager\u001b[0m\u001b[1;33m,\u001b[0m \u001b[0mother\u001b[0m\u001b[1;33m:\u001b[0m \u001b[0mBlockManager\u001b[0m\u001b[1;33m)\u001b[0m \u001b[1;33m->\u001b[0m \u001b[0mbool\u001b[0m\u001b[1;33m:\u001b[0m\u001b[1;33m\u001b[0m\u001b[1;33m\u001b[0m\u001b[0m\n",
      "\u001b[1;32m~\\Anaconda3\\lib\\site-packages\\pandas\\core\\internals\\ops.py\u001b[0m in \u001b[0;36moperate_blockwise\u001b[1;34m(left, right, array_op)\u001b[0m\n\u001b[0;32m     61\u001b[0m     \u001b[0mres_blks\u001b[0m\u001b[1;33m:\u001b[0m \u001b[0mlist\u001b[0m\u001b[1;33m[\u001b[0m\u001b[0mBlock\u001b[0m\u001b[1;33m]\u001b[0m \u001b[1;33m=\u001b[0m \u001b[1;33m[\u001b[0m\u001b[1;33m]\u001b[0m\u001b[1;33m\u001b[0m\u001b[1;33m\u001b[0m\u001b[0m\n\u001b[0;32m     62\u001b[0m     \u001b[1;32mfor\u001b[0m \u001b[0mlvals\u001b[0m\u001b[1;33m,\u001b[0m \u001b[0mrvals\u001b[0m\u001b[1;33m,\u001b[0m \u001b[0mlocs\u001b[0m\u001b[1;33m,\u001b[0m \u001b[0mleft_ea\u001b[0m\u001b[1;33m,\u001b[0m \u001b[0mright_ea\u001b[0m\u001b[1;33m,\u001b[0m \u001b[0mrblk\u001b[0m \u001b[1;32min\u001b[0m \u001b[0m_iter_block_pairs\u001b[0m\u001b[1;33m(\u001b[0m\u001b[0mleft\u001b[0m\u001b[1;33m,\u001b[0m \u001b[0mright\u001b[0m\u001b[1;33m)\u001b[0m\u001b[1;33m:\u001b[0m\u001b[1;33m\u001b[0m\u001b[1;33m\u001b[0m\u001b[0m\n\u001b[1;32m---> 63\u001b[1;33m         \u001b[0mres_values\u001b[0m \u001b[1;33m=\u001b[0m \u001b[0marray_op\u001b[0m\u001b[1;33m(\u001b[0m\u001b[0mlvals\u001b[0m\u001b[1;33m,\u001b[0m \u001b[0mrvals\u001b[0m\u001b[1;33m)\u001b[0m\u001b[1;33m\u001b[0m\u001b[1;33m\u001b[0m\u001b[0m\n\u001b[0m\u001b[0;32m     64\u001b[0m         \u001b[1;32mif\u001b[0m \u001b[0mleft_ea\u001b[0m \u001b[1;32mand\u001b[0m \u001b[1;32mnot\u001b[0m \u001b[0mright_ea\u001b[0m \u001b[1;32mand\u001b[0m \u001b[0mhasattr\u001b[0m\u001b[1;33m(\u001b[0m\u001b[0mres_values\u001b[0m\u001b[1;33m,\u001b[0m \u001b[1;34m\"reshape\"\u001b[0m\u001b[1;33m)\u001b[0m\u001b[1;33m:\u001b[0m\u001b[1;33m\u001b[0m\u001b[1;33m\u001b[0m\u001b[0m\n\u001b[0;32m     65\u001b[0m             \u001b[0mres_values\u001b[0m \u001b[1;33m=\u001b[0m \u001b[0mres_values\u001b[0m\u001b[1;33m.\u001b[0m\u001b[0mreshape\u001b[0m\u001b[1;33m(\u001b[0m\u001b[1;36m1\u001b[0m\u001b[1;33m,\u001b[0m \u001b[1;33m-\u001b[0m\u001b[1;36m1\u001b[0m\u001b[1;33m)\u001b[0m\u001b[1;33m\u001b[0m\u001b[1;33m\u001b[0m\u001b[0m\n",
      "\u001b[1;32m~\\Anaconda3\\lib\\site-packages\\pandas\\core\\ops\\array_ops.py\u001b[0m in \u001b[0;36mlogical_op\u001b[1;34m(left, right, op)\u001b[0m\n\u001b[0;32m    389\u001b[0m         \u001b[0mfiller\u001b[0m \u001b[1;33m=\u001b[0m \u001b[0mfill_int\u001b[0m \u001b[1;32mif\u001b[0m \u001b[0mis_self_int_dtype\u001b[0m \u001b[1;32mand\u001b[0m \u001b[0mis_other_int_dtype\u001b[0m \u001b[1;32melse\u001b[0m \u001b[0mfill_bool\u001b[0m\u001b[1;33m\u001b[0m\u001b[1;33m\u001b[0m\u001b[0m\n\u001b[0;32m    390\u001b[0m \u001b[1;33m\u001b[0m\u001b[0m\n\u001b[1;32m--> 391\u001b[1;33m         \u001b[0mres_values\u001b[0m \u001b[1;33m=\u001b[0m \u001b[0mna_logical_op\u001b[0m\u001b[1;33m(\u001b[0m\u001b[0mlvalues\u001b[0m\u001b[1;33m,\u001b[0m \u001b[0mrvalues\u001b[0m\u001b[1;33m,\u001b[0m \u001b[0mop\u001b[0m\u001b[1;33m)\u001b[0m\u001b[1;33m\u001b[0m\u001b[1;33m\u001b[0m\u001b[0m\n\u001b[0m\u001b[0;32m    392\u001b[0m         \u001b[1;31m# error: Cannot call function of unknown type\u001b[0m\u001b[1;33m\u001b[0m\u001b[1;33m\u001b[0m\u001b[0m\n\u001b[0;32m    393\u001b[0m         \u001b[0mres_values\u001b[0m \u001b[1;33m=\u001b[0m \u001b[0mfiller\u001b[0m\u001b[1;33m(\u001b[0m\u001b[0mres_values\u001b[0m\u001b[1;33m)\u001b[0m  \u001b[1;31m# type: ignore[operator]\u001b[0m\u001b[1;33m\u001b[0m\u001b[1;33m\u001b[0m\u001b[0m\n",
      "\u001b[1;32m~\\Anaconda3\\lib\\site-packages\\pandas\\core\\ops\\array_ops.py\u001b[0m in \u001b[0;36mna_logical_op\u001b[1;34m(x, y, op)\u001b[0m\n\u001b[0;32m    306\u001b[0m             \u001b[0mx\u001b[0m \u001b[1;33m=\u001b[0m \u001b[0mensure_object\u001b[0m\u001b[1;33m(\u001b[0m\u001b[0mx\u001b[0m\u001b[1;33m)\u001b[0m\u001b[1;33m\u001b[0m\u001b[1;33m\u001b[0m\u001b[0m\n\u001b[0;32m    307\u001b[0m             \u001b[0my\u001b[0m \u001b[1;33m=\u001b[0m \u001b[0mensure_object\u001b[0m\u001b[1;33m(\u001b[0m\u001b[0my\u001b[0m\u001b[1;33m)\u001b[0m\u001b[1;33m\u001b[0m\u001b[1;33m\u001b[0m\u001b[0m\n\u001b[1;32m--> 308\u001b[1;33m             \u001b[0mresult\u001b[0m \u001b[1;33m=\u001b[0m \u001b[0mlibops\u001b[0m\u001b[1;33m.\u001b[0m\u001b[0mvec_binop\u001b[0m\u001b[1;33m(\u001b[0m\u001b[0mx\u001b[0m\u001b[1;33m.\u001b[0m\u001b[0mravel\u001b[0m\u001b[1;33m(\u001b[0m\u001b[1;33m)\u001b[0m\u001b[1;33m,\u001b[0m \u001b[0my\u001b[0m\u001b[1;33m.\u001b[0m\u001b[0mravel\u001b[0m\u001b[1;33m(\u001b[0m\u001b[1;33m)\u001b[0m\u001b[1;33m,\u001b[0m \u001b[0mop\u001b[0m\u001b[1;33m)\u001b[0m\u001b[1;33m\u001b[0m\u001b[1;33m\u001b[0m\u001b[0m\n\u001b[0m\u001b[0;32m    309\u001b[0m         \u001b[1;32melse\u001b[0m\u001b[1;33m:\u001b[0m\u001b[1;33m\u001b[0m\u001b[1;33m\u001b[0m\u001b[0m\n\u001b[0;32m    310\u001b[0m             \u001b[1;31m# let null fall thru\u001b[0m\u001b[1;33m\u001b[0m\u001b[1;33m\u001b[0m\u001b[0m\n",
      "\u001b[1;32m~\\Anaconda3\\lib\\site-packages\\pandas\\_libs\\ops.pyx\u001b[0m in \u001b[0;36mpandas._libs.ops.vec_binop\u001b[1;34m()\u001b[0m\n",
      "\u001b[1;32m~\\Anaconda3\\lib\\site-packages\\pandas\\_libs\\ops.pyx\u001b[0m in \u001b[0;36mpandas._libs.ops.vec_binop\u001b[1;34m()\u001b[0m\n",
      "\u001b[1;32m~\\Anaconda3\\lib\\site-packages\\pandas\\core\\roperator.py\u001b[0m in \u001b[0;36mrand_\u001b[1;34m(left, right)\u001b[0m\n\u001b[0;32m     50\u001b[0m \u001b[1;33m\u001b[0m\u001b[0m\n\u001b[0;32m     51\u001b[0m \u001b[1;32mdef\u001b[0m \u001b[0mrand_\u001b[0m\u001b[1;33m(\u001b[0m\u001b[0mleft\u001b[0m\u001b[1;33m,\u001b[0m \u001b[0mright\u001b[0m\u001b[1;33m)\u001b[0m\u001b[1;33m:\u001b[0m\u001b[1;33m\u001b[0m\u001b[1;33m\u001b[0m\u001b[0m\n\u001b[1;32m---> 52\u001b[1;33m     \u001b[1;32mreturn\u001b[0m \u001b[0moperator\u001b[0m\u001b[1;33m.\u001b[0m\u001b[0mand_\u001b[0m\u001b[1;33m(\u001b[0m\u001b[0mright\u001b[0m\u001b[1;33m,\u001b[0m \u001b[0mleft\u001b[0m\u001b[1;33m)\u001b[0m\u001b[1;33m\u001b[0m\u001b[1;33m\u001b[0m\u001b[0m\n\u001b[0m\u001b[0;32m     53\u001b[0m \u001b[1;33m\u001b[0m\u001b[0m\n\u001b[0;32m     54\u001b[0m \u001b[1;33m\u001b[0m\u001b[0m\n",
      "\u001b[1;31mTypeError\u001b[0m: unsupported operand type(s) for &: 'bool' and 'float'"
     ]
    }
   ],
   "source": [
    "# 14) Gearbox READY\n",
    "\n",
    "for i in df[df.gearbox.isnull()==True].index:\n",
    "    df['gearbox'][i] = df[(df.model==df.model[i]) & (df[df.first_registration==df.first_registration[i]])].gearbox.mode()"
   ]
  },
  {
   "cell_type": "code",
   "execution_count": null,
   "metadata": {},
   "outputs": [],
   "source": [
    "df.info()"
   ]
  },
  {
   "cell_type": "code",
   "execution_count": null,
   "metadata": {},
   "outputs": [],
   "source": [
    "def_show_nulls(df)"
   ]
  },
  {
   "cell_type": "code",
   "execution_count": null,
   "metadata": {
    "id": "WDZnqBhbs1ME"
   },
   "outputs": [],
   "source": []
  },
  {
   "cell_type": "markdown",
   "metadata": {
    "id": "gPPdPAu5s1ME"
   },
   "source": [
    "# PART- 3 `( Handling With Outliers )`"
   ]
  },
  {
   "cell_type": "code",
   "execution_count": null,
   "metadata": {
    "id": "Is4HLjHWs1MF"
   },
   "outputs": [],
   "source": []
  },
  {
   "cell_type": "markdown",
   "metadata": {
    "id": "EKxmsgfts1MG"
   },
   "source": [
    "# Final Step (Checking final situation of data via graphs)"
   ]
  },
  {
   "cell_type": "code",
   "execution_count": null,
   "metadata": {
    "id": "8mgL_Bd0s1MG"
   },
   "outputs": [],
   "source": []
  },
  {
   "cell_type": "markdown",
   "metadata": {
    "id": "2PgUVPoes1MH"
   },
   "source": [
    "## Export dataframe to csv file (without dummy)"
   ]
  },
  {
   "cell_type": "code",
   "execution_count": null,
   "metadata": {
    "id": "Byg_o2ZMs1MI"
   },
   "outputs": [],
   "source": [
    "# df.to_csv(\"final_scout_not_dummy.csv\", index=False)"
   ]
  },
  {
   "cell_type": "markdown",
   "metadata": {
    "id": "hrw9hr-3s1MJ"
   },
   "source": [
    "# Dummy Operation"
   ]
  },
  {
   "cell_type": "code",
   "execution_count": null,
   "metadata": {
    "id": "faDyWTC9s1MJ"
   },
   "outputs": [],
   "source": []
  },
  {
   "cell_type": "markdown",
   "metadata": {
    "id": "DUOdihlqs1MJ"
   },
   "source": [
    "## Export dataframe to csv file (dummy)"
   ]
  },
  {
   "cell_type": "code",
   "execution_count": null,
   "metadata": {
    "id": "IJT7Yl1Us1MK"
   },
   "outputs": [],
   "source": [
    "# df_dummied.to_csv(\"final_scout_dummy.csv\", index=False)"
   ]
  },
  {
   "cell_type": "code",
   "execution_count": null,
   "metadata": {},
   "outputs": [],
   "source": []
  }
 ],
 "metadata": {
  "colab": {
   "name": "DAwPy-Capstone_Project_(AutoScout)_Student.ipynb",
   "provenance": []
  },
  "kernelspec": {
   "display_name": "Python 3 (ipykernel)",
   "language": "python",
   "name": "python3"
  },
  "language_info": {
   "codemirror_mode": {
    "name": "ipython",
    "version": 3
   },
   "file_extension": ".py",
   "mimetype": "text/x-python",
   "name": "python",
   "nbconvert_exporter": "python",
   "pygments_lexer": "ipython3",
   "version": "3.9.13"
  },
  "toc": {
   "base_numbering": 1,
   "nav_menu": {},
   "number_sections": false,
   "sideBar": true,
   "skip_h1_title": false,
   "title_cell": "Table of Contents",
   "title_sidebar": "Contents",
   "toc_cell": false,
   "toc_position": {},
   "toc_section_display": true,
   "toc_window_display": false
  }
 },
 "nbformat": 4,
 "nbformat_minor": 1
}
